{
 "cells": [
  {
   "cell_type": "markdown",
   "metadata": {},
   "source": [
    "# MS Project by SVM model\n",
    "### By Haorui Lyu (NetID: haoruil2)"
   ]
  },
  {
   "cell_type": "markdown",
   "metadata": {},
   "source": [
    "## Import Libraries"
   ]
  },
  {
   "cell_type": "code",
   "execution_count": 1,
   "metadata": {},
   "outputs": [],
   "source": [
    "import os\n",
    "import pandas as pd\n",
    "import numpy as np\n",
    "import tensorflow as tf\n",
    "from sklearn import svm\n",
    "from sklearn.model_selection import train_test_split\n",
    "from sklearn.metrics import accuracy_score\n",
    "from sklearn.preprocessing import LabelEncoder, StandardScaler\n",
    "from tensorflow.keras.metrics import Precision, Recall, F1Score"
   ]
  },
  {
   "cell_type": "markdown",
   "metadata": {},
   "source": [
    "## Data loading and preprocessing"
   ]
  },
  {
   "cell_type": "code",
   "execution_count": 2,
   "metadata": {},
   "outputs": [],
   "source": [
    "def normalize(df):\n",
    "    \n",
    "    for column in ['x', 'y', 'z']:\n",
    "        df[column] = (df[column] - df[column].mean()) / df[column].std()\n",
    "    df = pd.DataFrame(df[['x', 'y', 'z']])\n",
    "    return df\n",
    "\n",
    "def segment(df, window_size, step_size):\n",
    "    segments = []\n",
    "    for start in range(0, len(df) - window_size + 1, step_size):\n",
    "        end = start + window_size\n",
    "\n",
    "        \\\n",
    "        segment = df.iloc[start:end]\n",
    "        segments.append(segment)\n",
    "    return segments"
   ]
  },
  {
   "cell_type": "code",
   "execution_count": 3,
   "metadata": {},
   "outputs": [],
   "source": [
    "def segment_activities(window_size=32, step_size=16):\n",
    "    # window_size = 160  # 2.5 seconds\n",
    "    # step_size = 20  # 75% overlap\n",
    "\n",
    "    activities_path = r'D:\\PersonalFiles\\MS_Analysis\\Activity'\n",
    "    activity_segments = {}\n",
    "\n",
    "    # Iterate over each activity's folder\n",
    "    for activity_name in os.listdir(activities_path):\n",
    "        print(activity_name)\n",
    "        activity_folder = os.path.join(activities_path, activity_name)\n",
    "        if os.path.isdir(activity_folder):\n",
    "            # Store segments for each activity\n",
    "            activity_segments[activity_name] = []\n",
    "            \n",
    "            # Iterate over each CSV file within the activity's folder\n",
    "            for filename in os.listdir(activity_folder):\n",
    "                if filename.endswith('.csv'):\n",
    "                    file_path = os.path.join(activity_folder, filename)\n",
    "                    \n",
    "                    # Read  CSV file\n",
    "                    df = pd.read_csv(file_path)\n",
    "                    \n",
    "                    # Normalize data\n",
    "                    df_normalized = normalize(df)\n",
    "                    \n",
    "                    # Segment the data using a rolling window\n",
    "                    segments = segment(df_normalized, window_size, step_size)\n",
    "                    \n",
    "                    # Append the segments to the activity's list\n",
    "                    activity_segments[activity_name].extend(segments)\n",
    "    return activity_segments"
   ]
  },
  {
   "cell_type": "markdown",
   "metadata": {},
   "source": [
    "## Define F1 Score function"
   ]
  },
  {
   "cell_type": "code",
   "execution_count": 4,
   "metadata": {},
   "outputs": [],
   "source": [
    "class F1Score(tf.keras.metrics.Metric):\n",
    "    def __init__(self, name='f1_score', **kwargs):\n",
    "        super(F1Score, self).__init__(name = name, **kwargs)\n",
    "        self.precision = Precision()\n",
    "        self.recall = Recall()\n",
    "\n",
    "    def update_state(self, y_true, y_pred, sample_weight=None):\n",
    "        y_pred = tf.round(tf.nn.sigmoid(y_pred))  # Use sigmoid to convert the output to between 0 and 1, then round to the nearest integer\n",
    "        self.precision.update_state(y_true, y_pred, sample_weight)\n",
    "        self.recall.update_state(y_true, y_pred, sample_weight)\n",
    "\n",
    "    def result(self):\n",
    "        p = self.precision.result()\n",
    "        r = self.recall.result()\n",
    "        return 2 * ((p * r) / (p + r + tf.keras.backend.epsilon()))\n",
    "\n",
    "    def reset_states(self):\n",
    "        self.precision.reset_states()\n",
    "        self.recall.reset_states()"
   ]
  },
  {
   "cell_type": "markdown",
   "metadata": {},
   "source": [
    "## Define SVM model by using TensorFlow"
   ]
  },
  {
   "cell_type": "markdown",
   "metadata": {},
   "source": [
    "The training data set is very large, and training using the scikit-learn model will be very time-consuming. For this reason, I use TensorFlow to simulate the SVM algorithm to train the model.\n",
    "1. Use LabelEncoder to convert the activity name into integer form, then convert non-zero labels to 1, and the rest to -1, adapting to the common practice of SVM models.\n",
    "2. Define a simple neural network model containing a single linear output layer.\n",
    "3. Use hinge loss to customize the loss function, which is a commonly used loss function when training SVM models.\n",
    "4. Use stochastic gradient descent (SGD) as the optimizer when compiling the model with a custom hinge loss function and multiple evaluation metrics (accuracy, precision, recall, and F1 score)."
   ]
  },
  {
   "cell_type": "code",
   "execution_count": 5,
   "metadata": {},
   "outputs": [],
   "source": [
    "def fit_model_SVM_TensorFlow(activity_segments):\n",
    "    X, y = [], []\n",
    "\n",
    "    for activity_name, segments in activity_segments.items():\n",
    "        for segment in segments:\n",
    "            feature_vector = segment.to_numpy().flatten()\n",
    "            X.append(feature_vector)\n",
    "            y.append(activity_name)\n",
    "    print(\"Segments in suitable format\")\n",
    "\n",
    "    X = np.array(X)\n",
    "    y = np.array(y)\n",
    "\n",
    "    le = LabelEncoder()\n",
    "    y_encoded = le.fit_transform(y)\n",
    "    y_encoded = np.where(y_encoded > 0, 1, -1)  # Adjust labels to -1 and 1\n",
    "\n",
    "    print(\"Labels encoded\")\n",
    "\n",
    "    X_train, X_test, y_train, y_test = train_test_split(X, y_encoded, test_size = 0.2, random_state = 42)\n",
    "    scaler = StandardScaler()\n",
    "    X_train_scaled = scaler.fit_transform(X_train)\n",
    "    X_test_scaled = scaler.transform(X_test)\n",
    "\n",
    "    model = tf.keras.Sequential([\n",
    "        tf.keras.layers.Dense(1, input_shape=(X_train_scaled.shape[1],), activation = None) \n",
    "    ])\n",
    "\n",
    "    def hinge_loss(y_true, y_pred):\n",
    "        return tf.reduce_mean(tf.maximum(1 - y_true * y_pred, 0))\n",
    "\n",
    "    model.compile(optimizer='sgd', loss=hinge_loss, metrics=['accuracy', Precision(), Recall(), F1Score()])\n",
    "\n",
    "    print(\"Compiled model\\nTraining Model\")\n",
    "    model.fit(X_train_scaled, y_train, epochs=10, validation_split=0.2)\n",
    "\n",
    "    results = model.evaluate(X_test_scaled, y_test)\n",
    "    print(\"Test Results for SVM model - Loss: {:.4f}, Accuracy: {:.4f}, Precision: {:.4f}, Recall: {:.4f}, F1 Score: {:.4f}\".format(*results))\n",
    "    \n",
    "    return model"
   ]
  },
  {
   "cell_type": "markdown",
   "metadata": {},
   "source": [
    "# Result"
   ]
  },
  {
   "cell_type": "markdown",
   "metadata": {},
   "source": [
    "## 5 Second Window, 1 Second Overlap Data"
   ]
  },
  {
   "cell_type": "code",
   "execution_count": 6,
   "metadata": {},
   "outputs": [
    {
     "name": "stdout",
     "output_type": "stream",
     "text": [
      "B1_T1_ (WALK)\n",
      "B1_T2_ (WALK)\n",
      "B1_TWT_A_ (WALK)\n",
      "B1_TWT_B_ (WALK)\n",
      "B2_T1_ (WALK)\n",
      "B2_T2_ (WALK)\n",
      "B2_TWT_A_ (WALK)\n",
      "B2_TWT_B_ (WALK)\n",
      "digit symbol task_ (SIT)\n",
      "HR Recovery_ (STAND or SIT)\n",
      "Montreal Cognitive Assessment_ (SIT)\n",
      "Motor Behavioral\n",
      "Motor Behavioral task\n",
      "Motor behavioral task(1)\n",
      "Motor Behavioral Task_ (All conditions seen here)\n",
      "Naughton\n",
      "Naughton Task\n",
      "Naughton test\n",
      "Naughton Test_ (WALK)\n",
      "SOT_ (STAND)\n",
      "TM comfortable speed\n",
      "TM Comfortable speed(1)\n",
      "TM Comfortable Speed_ (WALK)\n",
      "TNT\n",
      "trail making task_ (SIT)\n",
      "Training ITWT - A\n",
      "Training ITWT - B\n",
      "Training ITWT -B\n",
      "Training_ TWT_A\n",
      "Training_ TWT_B\n",
      "Training_TWT_A\n",
      "Training_TWT_B\n",
      "TWT_A training\n",
      "TWT_A Training_ (WALK)\n",
      "TWT_B training\n",
      "TWT_B Training_ (WALK)\n",
      "Segments in suitable format\n",
      "Labels encoded\n"
     ]
    },
    {
     "name": "stderr",
     "output_type": "stream",
     "text": [
      "c:\\Users\\Lyu07\\AppData\\Local\\Programs\\Python\\Python311\\Lib\\site-packages\\keras\\src\\layers\\core\\dense.py:86: UserWarning: Do not pass an `input_shape`/`input_dim` argument to a layer. When using Sequential models, prefer using an `Input(shape)` object as the first layer in the model instead.\n",
      "  super().__init__(activity_regularizer=activity_regularizer, **kwargs)\n"
     ]
    },
    {
     "name": "stdout",
     "output_type": "stream",
     "text": [
      "Compiled model\n",
      "Training Model\n",
      "Epoch 1/10\n",
      "\u001b[1m3876/3876\u001b[0m \u001b[32m━━━━━━━━━━━━━━━━━━━━\u001b[0m\u001b[37m\u001b[0m \u001b[1m3s\u001b[0m 572us/step - accuracy: 0.8968 - f1_score: 0.9799 - loss: 0.1571 - precision: 1.0000 - recall: 0.9135 - val_accuracy: 0.9801 - val_f1_score: 0.9998 - val_loss: 0.0489 - val_precision: 1.0000 - val_recall: 0.9982\n",
      "Epoch 2/10\n",
      "\u001b[1m3876/3876\u001b[0m \u001b[32m━━━━━━━━━━━━━━━━━━━━\u001b[0m\u001b[37m\u001b[0m \u001b[1m2s\u001b[0m 482us/step - accuracy: 0.9803 - f1_score: 0.9998 - loss: 0.0488 - precision: 1.0000 - recall: 0.9988 - val_accuracy: 0.9814 - val_f1_score: 1.0000 - val_loss: 0.0447 - val_precision: 1.0000 - val_recall: 0.9995\n",
      "Epoch 3/10\n",
      "\u001b[1m3876/3876\u001b[0m \u001b[32m━━━━━━━━━━━━━━━━━━━━\u001b[0m\u001b[37m\u001b[0m \u001b[1m2s\u001b[0m 481us/step - accuracy: 0.9807 - f1_score: 1.0000 - loss: 0.0465 - precision: 1.0000 - recall: 0.9992 - val_accuracy: 0.9810 - val_f1_score: 0.9999 - val_loss: 0.0475 - val_precision: 1.0000 - val_recall: 0.9991\n",
      "Epoch 4/10\n",
      "\u001b[1m3876/3876\u001b[0m \u001b[32m━━━━━━━━━━━━━━━━━━━━\u001b[0m\u001b[37m\u001b[0m \u001b[1m2s\u001b[0m 495us/step - accuracy: 0.9810 - f1_score: 1.0000 - loss: 0.0447 - precision: 1.0000 - recall: 0.9993 - val_accuracy: 0.6513 - val_f1_score: 0.8638 - val_loss: 0.6312 - val_precision: 1.0000 - val_recall: 0.6674\n",
      "Epoch 5/10\n",
      "\u001b[1m3876/3876\u001b[0m \u001b[32m━━━━━━━━━━━━━━━━━━━━\u001b[0m\u001b[37m\u001b[0m \u001b[1m2s\u001b[0m 519us/step - accuracy: 0.9789 - f1_score: 0.9994 - loss: 0.0480 - precision: 1.0000 - recall: 0.9975 - val_accuracy: 0.9814 - val_f1_score: 1.0000 - val_loss: 0.0438 - val_precision: 1.0000 - val_recall: 0.9995\n",
      "Epoch 6/10\n",
      "\u001b[1m3876/3876\u001b[0m \u001b[32m━━━━━━━━━━━━━━━━━━━━\u001b[0m\u001b[37m\u001b[0m \u001b[1m2s\u001b[0m 487us/step - accuracy: 0.9811 - f1_score: 1.0000 - loss: 0.0442 - precision: 1.0000 - recall: 0.9994 - val_accuracy: 0.9800 - val_f1_score: 0.9999 - val_loss: 0.0483 - val_precision: 1.0000 - val_recall: 0.9981\n",
      "Epoch 7/10\n",
      "\u001b[1m3876/3876\u001b[0m \u001b[32m━━━━━━━━━━━━━━━━━━━━\u001b[0m\u001b[37m\u001b[0m \u001b[1m2s\u001b[0m 486us/step - accuracy: 0.9800 - f1_score: 1.0000 - loss: 0.0465 - precision: 1.0000 - recall: 0.9994 - val_accuracy: 0.9814 - val_f1_score: 1.0000 - val_loss: 0.0435 - val_precision: 1.0000 - val_recall: 0.9995\n",
      "Epoch 8/10\n",
      "\u001b[1m3876/3876\u001b[0m \u001b[32m━━━━━━━━━━━━━━━━━━━━\u001b[0m\u001b[37m\u001b[0m \u001b[1m2s\u001b[0m 486us/step - accuracy: 0.9800 - f1_score: 0.9999 - loss: 0.0471 - precision: 1.0000 - recall: 0.9994 - val_accuracy: 0.9817 - val_f1_score: 1.0000 - val_loss: 0.0424 - val_precision: 1.0000 - val_recall: 0.9999\n",
      "Epoch 9/10\n",
      "\u001b[1m3876/3876\u001b[0m \u001b[32m━━━━━━━━━━━━━━━━━━━━\u001b[0m\u001b[37m\u001b[0m \u001b[1m2s\u001b[0m 490us/step - accuracy: 0.9817 - f1_score: 0.9999 - loss: 0.0428 - precision: 1.0000 - recall: 0.9993 - val_accuracy: 0.9816 - val_f1_score: 1.0000 - val_loss: 0.0429 - val_precision: 1.0000 - val_recall: 0.9997\n",
      "Epoch 10/10\n",
      "\u001b[1m3876/3876\u001b[0m \u001b[32m━━━━━━━━━━━━━━━━━━━━\u001b[0m\u001b[37m\u001b[0m \u001b[1m2s\u001b[0m 510us/step - accuracy: 0.9812 - f1_score: 1.0000 - loss: 0.0437 - precision: 1.0000 - recall: 0.9993 - val_accuracy: 0.9818 - val_f1_score: 1.0000 - val_loss: 0.0419 - val_precision: 1.0000 - val_recall: 0.9999\n",
      "\u001b[1m1211/1211\u001b[0m \u001b[32m━━━━━━━━━━━━━━━━━━━━\u001b[0m\u001b[37m\u001b[0m \u001b[1m0s\u001b[0m 401us/step - accuracy: 0.9810 - f1_score: 1.0000 - loss: 0.0440 - precision: 1.0000 - recall: 1.0000\n",
      "Test Results for SVM model - Loss: 0.0424, Accuracy: 0.9816, Precision: 1.0000, Recall: 0.9999, F1 Score: 1.0000\n"
     ]
    }
   ],
   "source": [
    "activity_segments = segment_activities(160, 36)\n",
    "model = fit_model_SVM_TensorFlow(activity_segments)"
   ]
  },
  {
   "cell_type": "markdown",
   "metadata": {},
   "source": [
    "## 3 Second Window 3/2 Second Overlap"
   ]
  },
  {
   "cell_type": "code",
   "execution_count": 7,
   "metadata": {},
   "outputs": [
    {
     "name": "stdout",
     "output_type": "stream",
     "text": [
      "B1_T1_ (WALK)\n",
      "B1_T2_ (WALK)\n",
      "B1_TWT_A_ (WALK)\n",
      "B1_TWT_B_ (WALK)\n",
      "B2_T1_ (WALK)\n",
      "B2_T2_ (WALK)\n",
      "B2_TWT_A_ (WALK)\n",
      "B2_TWT_B_ (WALK)\n",
      "digit symbol task_ (SIT)\n",
      "HR Recovery_ (STAND or SIT)\n",
      "Montreal Cognitive Assessment_ (SIT)\n",
      "Motor Behavioral\n",
      "Motor Behavioral task\n",
      "Motor behavioral task(1)\n",
      "Motor Behavioral Task_ (All conditions seen here)\n",
      "Naughton\n",
      "Naughton Task\n",
      "Naughton test\n",
      "Naughton Test_ (WALK)\n",
      "SOT_ (STAND)\n",
      "TM comfortable speed\n",
      "TM Comfortable speed(1)\n",
      "TM Comfortable Speed_ (WALK)\n",
      "TNT\n",
      "trail making task_ (SIT)\n",
      "Training ITWT - A\n",
      "Training ITWT - B\n",
      "Training ITWT -B\n",
      "Training_ TWT_A\n",
      "Training_ TWT_B\n",
      "Training_TWT_A\n",
      "Training_TWT_B\n",
      "TWT_A training\n",
      "TWT_A Training_ (WALK)\n",
      "TWT_B training\n",
      "TWT_B Training_ (WALK)\n",
      "Segments in suitable format\n",
      "Labels encoded\n"
     ]
    },
    {
     "name": "stderr",
     "output_type": "stream",
     "text": [
      "c:\\Users\\Lyu07\\AppData\\Local\\Programs\\Python\\Python311\\Lib\\site-packages\\keras\\src\\layers\\core\\dense.py:86: UserWarning: Do not pass an `input_shape`/`input_dim` argument to a layer. When using Sequential models, prefer using an `Input(shape)` object as the first layer in the model instead.\n",
      "  super().__init__(activity_regularizer=activity_regularizer, **kwargs)\n"
     ]
    },
    {
     "name": "stdout",
     "output_type": "stream",
     "text": [
      "Compiled model\n",
      "Training Model\n",
      "Epoch 1/10\n",
      "\u001b[1m11668/11668\u001b[0m \u001b[32m━━━━━━━━━━━━━━━━━━━━\u001b[0m\u001b[37m\u001b[0m \u001b[1m12s\u001b[0m 1ms/step - accuracy: 0.9486 - f1_score: 0.9927 - loss: 0.0889 - precision_2: 1.0000 - recall_2: 0.9664 - val_accuracy: 0.9810 - val_f1_score: 1.0000 - val_loss: 0.0427 - val_precision_2: 1.0000 - val_recall_2: 0.9999\n",
      "Epoch 2/10\n",
      "\u001b[1m11668/11668\u001b[0m \u001b[32m━━━━━━━━━━━━━━━━━━━━\u001b[0m\u001b[37m\u001b[0m \u001b[1m33s\u001b[0m 3ms/step - accuracy: 0.9812 - f1_score: 1.0000 - loss: 0.0421 - precision_2: 1.0000 - recall_2: 0.9997 - val_accuracy: 0.9810 - val_f1_score: 1.0000 - val_loss: 0.0423 - val_precision_2: 1.0000 - val_recall_2: 0.9999\n",
      "Epoch 3/10\n",
      "\u001b[1m11668/11668\u001b[0m \u001b[32m━━━━━━━━━━━━━━━━━━━━\u001b[0m\u001b[37m\u001b[0m \u001b[1m28s\u001b[0m 2ms/step - accuracy: 0.9810 - f1_score: 1.0000 - loss: 0.0427 - precision_2: 1.0000 - recall_2: 0.9999 - val_accuracy: 0.9811 - val_f1_score: 1.0000 - val_loss: 0.0415 - val_precision_2: 1.0000 - val_recall_2: 1.0000\n",
      "Epoch 4/10\n",
      "\u001b[1m11668/11668\u001b[0m \u001b[32m━━━━━━━━━━━━━━━━━━━━\u001b[0m\u001b[37m\u001b[0m \u001b[1m8s\u001b[0m 698us/step - accuracy: 0.9813 - f1_score: 1.0000 - loss: 0.0419 - precision_2: 1.0000 - recall_2: 0.9999 - val_accuracy: 0.9811 - val_f1_score: 1.0000 - val_loss: 0.0419 - val_precision_2: 1.0000 - val_recall_2: 0.9999\n",
      "Epoch 5/10\n",
      "\u001b[1m11668/11668\u001b[0m \u001b[32m━━━━━━━━━━━━━━━━━━━━\u001b[0m\u001b[37m\u001b[0m \u001b[1m6s\u001b[0m 489us/step - accuracy: 0.9813 - f1_score: 1.0000 - loss: 0.0419 - precision_2: 1.0000 - recall_2: 0.9998 - val_accuracy: 0.9811 - val_f1_score: 1.0000 - val_loss: 0.0415 - val_precision_2: 1.0000 - val_recall_2: 1.0000\n",
      "Epoch 6/10\n",
      "\u001b[1m11668/11668\u001b[0m \u001b[32m━━━━━━━━━━━━━━━━━━━━\u001b[0m\u001b[37m\u001b[0m \u001b[1m5s\u001b[0m 468us/step - accuracy: 0.9807 - f1_score: 1.0000 - loss: 0.0432 - precision_2: 1.0000 - recall_2: 0.9998 - val_accuracy: 0.9811 - val_f1_score: 1.0000 - val_loss: 0.0420 - val_precision_2: 1.0000 - val_recall_2: 0.9999\n",
      "Epoch 7/10\n",
      "\u001b[1m11668/11668\u001b[0m \u001b[32m━━━━━━━━━━━━━━━━━━━━\u001b[0m\u001b[37m\u001b[0m \u001b[1m6s\u001b[0m 471us/step - accuracy: 0.9812 - f1_score: 1.0000 - loss: 0.0421 - precision_2: 1.0000 - recall_2: 0.9998 - val_accuracy: 0.9807 - val_f1_score: 1.0000 - val_loss: 0.0449 - val_precision_2: 1.0000 - val_recall_2: 0.9996\n",
      "Epoch 8/10\n",
      "\u001b[1m11668/11668\u001b[0m \u001b[32m━━━━━━━━━━━━━━━━━━━━\u001b[0m\u001b[37m\u001b[0m \u001b[1m5s\u001b[0m 456us/step - accuracy: 0.9815 - f1_score: 1.0000 - loss: 0.0414 - precision_2: 1.0000 - recall_2: 0.9998 - val_accuracy: 0.9811 - val_f1_score: 1.0000 - val_loss: 0.0412 - val_precision_2: 1.0000 - val_recall_2: 1.0000\n",
      "Epoch 9/10\n",
      "\u001b[1m11668/11668\u001b[0m \u001b[32m━━━━━━━━━━━━━━━━━━━━\u001b[0m\u001b[37m\u001b[0m \u001b[1m5s\u001b[0m 467us/step - accuracy: 0.9813 - f1_score: 1.0000 - loss: 0.0420 - precision_2: 1.0000 - recall_2: 0.9999 - val_accuracy: 0.9811 - val_f1_score: 1.0000 - val_loss: 0.0415 - val_precision_2: 1.0000 - val_recall_2: 1.0000\n",
      "Epoch 10/10\n",
      "\u001b[1m11668/11668\u001b[0m \u001b[32m━━━━━━━━━━━━━━━━━━━━\u001b[0m\u001b[37m\u001b[0m \u001b[1m6s\u001b[0m 473us/step - accuracy: 0.9810 - f1_score: 1.0000 - loss: 0.0423 - precision_2: 1.0000 - recall_2: 0.9998 - val_accuracy: 0.9810 - val_f1_score: 1.0000 - val_loss: 0.0430 - val_precision_2: 1.0000 - val_recall_2: 0.9999\n",
      "\u001b[1m3647/3647\u001b[0m \u001b[32m━━━━━━━━━━━━━━━━━━━━\u001b[0m\u001b[37m\u001b[0m \u001b[1m1s\u001b[0m 370us/step - accuracy: 0.9819 - f1_score: 1.0000 - loss: 0.0413 - precision_2: 1.0000 - recall_2: 0.9999\n",
      "Test Results for SVM model - Loss: 0.0417, Accuracy: 0.9817, Precision: 1.0000, Recall: 0.9999, F1 Score: 1.0000\n"
     ]
    }
   ],
   "source": [
    "activity_segments = segment_activities(96, 12)\n",
    "model = fit_model_SVM_TensorFlow(activity_segments)"
   ]
  },
  {
   "cell_type": "markdown",
   "metadata": {},
   "source": [
    "## 1 Second Window 1/2 Second Overlap"
   ]
  },
  {
   "cell_type": "code",
   "execution_count": 8,
   "metadata": {},
   "outputs": [
    {
     "name": "stdout",
     "output_type": "stream",
     "text": [
      "B1_T1_ (WALK)\n",
      "B1_T2_ (WALK)\n",
      "B1_TWT_A_ (WALK)\n",
      "B1_TWT_B_ (WALK)\n",
      "B2_T1_ (WALK)\n",
      "B2_T2_ (WALK)\n",
      "B2_TWT_A_ (WALK)\n",
      "B2_TWT_B_ (WALK)\n",
      "digit symbol task_ (SIT)\n",
      "HR Recovery_ (STAND or SIT)\n",
      "Montreal Cognitive Assessment_ (SIT)\n",
      "Motor Behavioral\n",
      "Motor Behavioral task\n",
      "Motor behavioral task(1)\n",
      "Motor Behavioral Task_ (All conditions seen here)\n",
      "Naughton\n",
      "Naughton Task\n",
      "Naughton test\n",
      "Naughton Test_ (WALK)\n",
      "SOT_ (STAND)\n",
      "TM comfortable speed\n",
      "TM Comfortable speed(1)\n",
      "TM Comfortable Speed_ (WALK)\n",
      "TNT\n",
      "trail making task_ (SIT)\n",
      "Training ITWT - A\n",
      "Training ITWT - B\n",
      "Training ITWT -B\n",
      "Training_ TWT_A\n",
      "Training_ TWT_B\n",
      "Training_TWT_A\n",
      "Training_TWT_B\n",
      "TWT_A training\n",
      "TWT_A Training_ (WALK)\n",
      "TWT_B training\n",
      "TWT_B Training_ (WALK)\n",
      "Segments in suitable format\n",
      "Labels encoded\n",
      "Compiled model\n",
      "Training Model\n",
      "Epoch 1/10\n"
     ]
    },
    {
     "name": "stderr",
     "output_type": "stream",
     "text": [
      "c:\\Users\\Lyu07\\AppData\\Local\\Programs\\Python\\Python311\\Lib\\site-packages\\keras\\src\\layers\\core\\dense.py:86: UserWarning: Do not pass an `input_shape`/`input_dim` argument to a layer. When using Sequential models, prefer using an `Input(shape)` object as the first layer in the model instead.\n",
      "  super().__init__(activity_regularizer=activity_regularizer, **kwargs)\n"
     ]
    },
    {
     "name": "stdout",
     "output_type": "stream",
     "text": [
      "\u001b[1m8795/8795\u001b[0m \u001b[32m━━━━━━━━━━━━━━━━━━━━\u001b[0m\u001b[37m\u001b[0m \u001b[1m5s\u001b[0m 493us/step - accuracy: 0.9421 - f1_score: 0.9918 - loss: 0.0963 - precision_4: 1.0000 - recall_4: 0.9598 - val_accuracy: 0.9803 - val_f1_score: 1.0000 - val_loss: 0.0426 - val_precision_4: 1.0000 - val_recall_4: 0.9999\n",
      "Epoch 2/10\n",
      "\u001b[1m8795/8795\u001b[0m \u001b[32m━━━━━━━━━━━━━━━━━━━━\u001b[0m\u001b[37m\u001b[0m \u001b[1m4s\u001b[0m 474us/step - accuracy: 0.9813 - f1_score: 1.0000 - loss: 0.0400 - precision_4: 1.0000 - recall_4: 0.9999 - val_accuracy: 0.9804 - val_f1_score: 1.0000 - val_loss: 0.0405 - val_precision_4: 1.0000 - val_recall_4: 1.0000\n",
      "Epoch 3/10\n",
      "\u001b[1m8795/8795\u001b[0m \u001b[32m━━━━━━━━━━━━━━━━━━━━\u001b[0m\u001b[37m\u001b[0m \u001b[1m4s\u001b[0m 491us/step - accuracy: 0.9813 - f1_score: 1.0000 - loss: 0.0393 - precision_4: 1.0000 - recall_4: 1.0000 - val_accuracy: 0.9804 - val_f1_score: 1.0000 - val_loss: 0.0405 - val_precision_4: 1.0000 - val_recall_4: 1.0000\n",
      "Epoch 4/10\n",
      "\u001b[1m8795/8795\u001b[0m \u001b[32m━━━━━━━━━━━━━━━━━━━━\u001b[0m\u001b[37m\u001b[0m \u001b[1m4s\u001b[0m 487us/step - accuracy: 0.9814 - f1_score: 1.0000 - loss: 0.0390 - precision_4: 1.0000 - recall_4: 1.0000 - val_accuracy: 0.9804 - val_f1_score: 1.0000 - val_loss: 0.0412 - val_precision_4: 1.0000 - val_recall_4: 1.0000\n",
      "Epoch 5/10\n",
      "\u001b[1m8795/8795\u001b[0m \u001b[32m━━━━━━━━━━━━━━━━━━━━\u001b[0m\u001b[37m\u001b[0m \u001b[1m4s\u001b[0m 485us/step - accuracy: 0.9812 - f1_score: 1.0000 - loss: 0.0394 - precision_4: 1.0000 - recall_4: 1.0000 - val_accuracy: 0.9804 - val_f1_score: 1.0000 - val_loss: 0.0408 - val_precision_4: 1.0000 - val_recall_4: 1.0000\n",
      "Epoch 6/10\n",
      "\u001b[1m8795/8795\u001b[0m \u001b[32m━━━━━━━━━━━━━━━━━━━━\u001b[0m\u001b[37m\u001b[0m \u001b[1m4s\u001b[0m 476us/step - accuracy: 0.9814 - f1_score: 1.0000 - loss: 0.0390 - precision_4: 1.0000 - recall_4: 1.0000 - val_accuracy: 0.9804 - val_f1_score: 1.0000 - val_loss: 0.0407 - val_precision_4: 1.0000 - val_recall_4: 1.0000\n",
      "Epoch 7/10\n",
      "\u001b[1m8795/8795\u001b[0m \u001b[32m━━━━━━━━━━━━━━━━━━━━\u001b[0m\u001b[37m\u001b[0m \u001b[1m4s\u001b[0m 481us/step - accuracy: 0.9813 - f1_score: 1.0000 - loss: 0.0392 - precision_4: 1.0000 - recall_4: 1.0000 - val_accuracy: 0.9804 - val_f1_score: 1.0000 - val_loss: 0.0408 - val_precision_4: 1.0000 - val_recall_4: 1.0000\n",
      "Epoch 8/10\n",
      "\u001b[1m8795/8795\u001b[0m \u001b[32m━━━━━━━━━━━━━━━━━━━━\u001b[0m\u001b[37m\u001b[0m \u001b[1m4s\u001b[0m 465us/step - accuracy: 0.9813 - f1_score: 1.0000 - loss: 0.0393 - precision_4: 1.0000 - recall_4: 1.0000 - val_accuracy: 0.9804 - val_f1_score: 1.0000 - val_loss: 0.0408 - val_precision_4: 1.0000 - val_recall_4: 1.0000\n",
      "Epoch 9/10\n",
      "\u001b[1m8795/8795\u001b[0m \u001b[32m━━━━━━━━━━━━━━━━━━━━\u001b[0m\u001b[37m\u001b[0m \u001b[1m4s\u001b[0m 450us/step - accuracy: 0.9817 - f1_score: 1.0000 - loss: 0.0384 - precision_4: 1.0000 - recall_4: 1.0000 - val_accuracy: 0.9804 - val_f1_score: 1.0000 - val_loss: 0.0405 - val_precision_4: 1.0000 - val_recall_4: 1.0000\n",
      "Epoch 10/10\n",
      "\u001b[1m8795/8795\u001b[0m \u001b[32m━━━━━━━━━━━━━━━━━━━━\u001b[0m\u001b[37m\u001b[0m \u001b[1m4s\u001b[0m 465us/step - accuracy: 0.9814 - f1_score: 1.0000 - loss: 0.0389 - precision_4: 1.0000 - recall_4: 1.0000 - val_accuracy: 0.9804 - val_f1_score: 1.0000 - val_loss: 0.0406 - val_precision_4: 1.0000 - val_recall_4: 1.0000\n",
      "\u001b[1m2749/2749\u001b[0m \u001b[32m━━━━━━━━━━━━━━━━━━━━\u001b[0m\u001b[37m\u001b[0m \u001b[1m1s\u001b[0m 388us/step - accuracy: 0.9818 - f1_score: 1.0000 - loss: 0.0378 - precision_4: 1.0000 - recall_4: 1.0000\n",
      "Test Results for SVM model - Loss: 0.0378, Accuracy: 0.9817, Precision: 1.0000, Recall: 1.0000, F1 Score: 1.0000\n"
     ]
    }
   ],
   "source": [
    "activity_segments = segment_activities()\n",
    "model = fit_model_SVM_TensorFlow(activity_segments)"
   ]
  }
 ],
 "metadata": {
  "kernelspec": {
   "display_name": "Python 3",
   "language": "python",
   "name": "python3"
  },
  "language_info": {
   "codemirror_mode": {
    "name": "ipython",
    "version": 3
   },
   "file_extension": ".py",
   "mimetype": "text/x-python",
   "name": "python",
   "nbconvert_exporter": "python",
   "pygments_lexer": "ipython3",
   "version": "3.11.9"
  }
 },
 "nbformat": 4,
 "nbformat_minor": 2
}
